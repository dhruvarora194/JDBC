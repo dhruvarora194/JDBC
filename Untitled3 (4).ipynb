{
  "nbformat": 4,
  "nbformat_minor": 0,
  "metadata": {
    "colab": {
      "provenance": []
    },
    "kernelspec": {
      "name": "python3",
      "display_name": "Python 3"
    },
    "language_info": {
      "name": "python"
    }
  },
  "cells": [
    {
      "cell_type": "markdown",
      "source": [
        "# **Opportunity**: With many organizations running SAS BI and Analytics tool sets converting SAS to PySpark can be excruciatingly painful both in time and cost. Many organizations are applying a “brute force” approach to conversion which is resulting in cost and timeline overruns. \n",
        "\n",
        "\n",
        "\n",
        "\n",
        "\n",
        "\n",
        "\n",
        "\n",
        "\n"
      ],
      "metadata": {
        "id": "uHmHP5Lpj_TC"
      }
    },
    {
      "cell_type": "markdown",
      "source": [
        "# **How will this help Citi?**: \n",
        "\n",
        "*   We have thousands of SAS apps across PBWM\n",
        "*   Conversion to open-source technology is a manual intensive effort because:\n",
        "    1. All SAS Program follow different development standards\n",
        "    2. Unavailability of design artifacts\n",
        "    3. SAS Programs are usually not modularized as per technology standards since they are built outside the SDLC process.\n",
        "\n",
        "\n",
        "*   Manual conversion effort is typically divided in 3 parts:\n",
        "    1. Code conversion in modules: 60% of total effort\n",
        "    2. Code review to match basic functionality with SAS: 10% of total effort\n",
        "    3. Validation of output bew and old app: 30% of total effort\n"
      ],
      "metadata": {
        "id": "VY6Kqkuoulmx"
      }
    },
    {
      "cell_type": "code",
      "source": [
        "#Importing Dependencies for OPENAI\n",
        "\n",
        "import openai\n",
        "import pandas\n",
        "import getpass"
      ],
      "metadata": {
        "id": "ueCtEdxjXEYF"
      },
      "execution_count": 2,
      "outputs": []
    },
    {
      "cell_type": "code",
      "source": [
        "#Passing the API Key\n",
        "API_KEY = getpass.getpass(prompt='Enter your API Key')"
      ],
      "metadata": {
        "colab": {
          "base_uri": "https://localhost:8080/"
        },
        "id": "9xgyTVmMXTF1",
        "outputId": "182b91ed-f0b8-476e-8fde-1728defb0810"
      },
      "execution_count": 3,
      "outputs": [
        {
          "name": "stdout",
          "output_type": "stream",
          "text": [
            "Enter your API Key··········\n"
          ]
        }
      ]
    },
    {
      "cell_type": "markdown",
      "source": [
        "#Converting the code into different modules - which will also help OpenAI with incremental learning for future use-cases:\n",
        "\n",
        "1. Read the dataset\n",
        "2. Descriptive Analysis\n",
        "\n",
        "Running Different Statistical models:\n",
        "1. Analysis of Variance (ANOVA)\n",
        "2. Nonparametric One-Way ANOVA\n",
        "3. Second Distribution Examination\n",
        "4. Second Kruskal-Wallis Test"
      ],
      "metadata": {
        "id": "EzMCNxRswVC7"
      }
    },
    {
      "cell_type": "markdown",
      "source": [
        "# **Asking OPENAI to give some information about the SAS Code**"
      ],
      "metadata": {
        "id": "Xlq05uWTazlY"
      }
    },
    {
      "cell_type": "code",
      "source": [
        "openai.api_key = API_KEY\n",
        "prompt = '''Read the 'BankCustomerDataAnalysis.sas' code and provide a detailed analysis of the code in a readable format'''\n",
        "\n",
        "completions = openai.Completion.create(engine=\"text-davinci-002\", prompt=prompt, max_tokens=1024, n=1,stop=None,temperature=0.7)\n",
        "message = completions.choices[0].text\n",
        "print(message)"
      ],
      "metadata": {
        "colab": {
          "base_uri": "https://localhost:8080/"
        },
        "id": "Zveac36OaX7T",
        "outputId": "3f22b40b-9295-4573-d7fb-9f42bbdc72a7"
      },
      "execution_count": 12,
      "outputs": [
        {
          "output_type": "stream",
          "name": "stdout",
          "text": [
            ".\n",
            "\n",
            "This code is written in the SAS programming language and is used to analyze bank customer data. The code reads in data from a CSV (comma-separated values) file, performs some basic data cleanup, and then creates several summary tables and graphs.\n",
            "\n",
            "The first section of the code reads in the data from the CSV file. It then creates a new variable called \"flag\" which is used to indicate whether or not a customer is considered \"high risk\". This flag is set to 1 for customers who have ever been delinquent on a loan, had a bankruptcy, or had a loan in collections.\n",
            "\n",
            "The second section of the code calculates some summary statistics for the data. This includes the total number of customers, the number of high-risk customers, the percentage of high-risk customers, and the average account balance.\n",
            "\n",
            "The third section of the code creates a bar chart showing the number of high-risk and low-risk customers.\n",
            "\n",
            "The fourth section of the code creates a table showing the average account balance for each risk group.\n",
            "\n",
            "The fifth and final section of the code creates a scatter plot of account balances and delinquency rates. This is used to visually examine the relationship between these two variables.\n"
          ]
        }
      ]
    },
    {
      "cell_type": "markdown",
      "source": [
        "# **Explainable AI Isn’t Enough; We Need Understandable AI**"
      ],
      "metadata": {
        "id": "-AUL0K2E0UhF"
      }
    },
    {
      "cell_type": "markdown",
      "source": [
        "Explainable AI has long been considered a potential solution to consumers' distrust of artificial intelligence. But we should shift our focus to \"Understandable AI,\" which can better meet non-technical stakeholders' needs."
      ],
      "metadata": {
        "id": "xF8zBW-Z1EA7"
      }
    },
    {
      "cell_type": "code",
      "source": [
        "#Asking OPENAI to give some information about the SAS Code \n",
        "\n",
        "openai.api_key = API_KEY\n",
        "prompt = '''Read the 'BankCustomerDataAnalysis.sas' code and provide a interpretability and explainability matrix for higher management to understand and make decisions'''\n",
        "\n",
        "completions = openai.Completion.create(engine=\"text-davinci-002\", prompt=prompt, max_tokens=1024, n=1,stop=None,temperature=0.7)\n",
        "message = completions.choices[0].text\n",
        "print(message)"
      ],
      "metadata": {
        "colab": {
          "base_uri": "https://localhost:8080/"
        },
        "id": "2uR9RXI0boli",
        "outputId": "d9632759-ab9b-4fe7-973f-3a93a8bf54ef"
      },
      "execution_count": 17,
      "outputs": [
        {
          "output_type": "stream",
          "name": "stdout",
          "text": [
            ".\n",
            "\n",
            "The 'BankCustomerDataAnalysis.sas' code is a matrix that lists the different types of data that are analyzed in the code. The first column lists the type of data, the second column lists the purpose of the analysis, the third column lists the results of the analysis, and the fourth column lists the conclusions that can be drawn from the results.\n",
            "\n",
            "Type of Data:\n",
            "\n",
            "Customer data\n",
            "\n",
            "Purpose of Analysis:\n",
            "\n",
            "To identify trends in customer behavior\n",
            "\n",
            "Results of Analysis:\n",
            "\n",
            "The code shows that customer behavior is trending towards using online banking more often and using ATM machines less often.\n",
            "\n",
            "Conclusions:\n",
            "\n",
            "The bank can conclude that customers are becoming more comfortable with using online banking, and that they should focus on providing more online services. They can also conclude that ATM machines are becoming less popular, and that they should focus on providing more branch locations.\n"
          ]
        }
      ]
    },
    {
      "cell_type": "markdown",
      "source": [
        "# **NOTE:**  \n",
        "\n",
        "The above conclusion would have been very hard to derive if this was to be done manually. With OpenAI we can make conclusions/analysis like these by scanning millions of records in seconds"
      ],
      "metadata": {
        "id": "ONkGYK6bcjZt"
      }
    },
    {
      "cell_type": "markdown",
      "source": [
        "# **Asking OpenAI to convert a block of SAS code to PySpark**"
      ],
      "metadata": {
        "id": "OKjlFav2c46U"
      }
    },
    {
      "cell_type": "code",
      "source": [
        "openai.api_key = API_KEY\n",
        "prompt = '''Convert the following SAS Code:\n",
        "\n",
        "libname ASINCW20 '/home/u42888972/BSBA Sem 6 Applied Statistics/AS Indi Assignment';\n",
        "%web_drop_table(ASINCW20.ASINDT20);\n",
        "FILENAME REFFILE '/home/u42888972/BSBA Sem 6 Applied Statistics/AS Indi Assignment/assignment-individual-data.csv';\n",
        "PROC IMPORT DATAFILE=REFFILE\n",
        "\tDBMS=CSV\n",
        "\tOUT=ASINCW20.ASINDT20;\n",
        "\tGETNAMES=YES;\n",
        "RUN;\n",
        "%web_open_table(ASINCW20.ASINDT20);\n",
        "*Created Macro for easier data manipulation;\n",
        "%let library = ASINCW20;\n",
        "%let filename = ASINDT20;\n",
        "\n",
        "/** 1. BASIC DATA EXPLORATION & DATA CLEANING/VALIDATION. **/\n",
        "\n",
        "/*\n",
        "Using PROC FORMAT AND FREQ to find out which variables have missing data. \n",
        "(I did not use PROC MEAN because it can only be use for num variables.)\n",
        "*/\n",
        "\n",
        "PROC CONTENTS DATA = &library..&filename; \n",
        "RUN;\n",
        "\n",
        "PROC FORMAT;\n",
        "\tVALUE $missing_char\n",
        "\t\t' ' = 'Missing'\n",
        "\t\tother = 'Present';\n",
        "\t\n",
        "\tVALUE missing_num\n",
        "\t\t. = 'Missing'\n",
        "\t\tother = 'Present';\n",
        "RUN;\n",
        "\n",
        "\n",
        "TITLE 'Listing of Present and Missing Data for Each Variable';\n",
        "PROC FREQ DATA = &library..&filename;\n",
        "\tTABLES _all_ / missing;\n",
        "\tFORMAT _character_ $missing_char. _numeric_ missing_num.;\n",
        "RUN;\n",
        "TITLE;\n",
        "\n",
        "\n",
        "options nolabel;\n",
        "PROC MEANS DATA = &library..&filename N NMISS MIN MAX MEAN;\n",
        "RUN;\n",
        "\n",
        "*--------------------------------------------------------------------------------------------;\n",
        "/** 2. DESCRIPTIVE ANALYSIS. **/\n",
        "*Figure 1. Descriptive Statistics for assignment data.;\n",
        "proc means data=ASINCW20.ASINDT20 chartype n nmiss min max mode median mean std vardef=df;\n",
        "\tvar CHILDRENCOUNT INCOMETOTAL FAMSIZE;\n",
        "run;\n",
        "\n",
        "*Bar Chart1;\n",
        "*Figure 2. Frequency of customer’s education level by gender.;\n",
        "ods graphics / reset width=6.4in height=4.8in imagemap;\n",
        "\n",
        "proc sgplot data=ASINCW20.ASINDT20;\n",
        "\tvbar GENDER / group=EDUCATIONLEVEL groupdisplay=cluster;\n",
        "\tyaxis grid;\n",
        "run;\n",
        "\n",
        "ods graphics / reset;\n",
        "\n",
        "*Pie Chart;\n",
        "*Figure 3. Percentage of customers who own property by gender.;\n",
        "proc template;\n",
        "\tdefine statgraph SASStudio.Pie;\n",
        "\t\tbegingraph;\n",
        "\t\tlayout region;\n",
        "\t\tpiechart category=GENDER / group=OWNPROPERTY groupgap=2% \n",
        "\t\t\tdatalabellocation=inside;\n",
        "\t\tendlayout;\n",
        "\t\tendgraph;\n",
        "\tend;\n",
        "run;\n",
        "\n",
        "ods graphics / reset width=6.4in height=4.8in imagemap;\n",
        "\n",
        "proc sgrender template=SASStudio.Pie data=ASINCW20.ASINDT20;\n",
        "run;\n",
        "\n",
        "ods graphics / reset;\n",
        "\n",
        "*Bar Chart 2;\n",
        "*Figure 4. Percentage customer’s marital status by gender.;\n",
        "ods graphics / reset width=6.4in height=4.8in imagemap;\n",
        "\n",
        "proc sgplot data=ASINCW20.ASINDT20;\n",
        "\thbar GENDER / group=MARITALSTATUS groupdisplay=cluster stat=percent;\n",
        "\txaxis grid;\n",
        "run;\n",
        "\n",
        "ods graphics / reset;\n",
        "\n",
        "*Histogram;\n",
        "*Figure 5. Distribution of annual income by gender.;\n",
        "ods graphics / reset width=6.4in height=4.8in imagemap;\n",
        "\n",
        "proc sort data=ASINCW20.ASINDT20 out=_HistogramTaskData;\n",
        "\tby GENDER;\n",
        "run;\n",
        "\n",
        "proc sgplot data=_HistogramTaskData;\n",
        "\tby GENDER;\n",
        "\ttitle height=14pt \"Distribution of IncomeTotal\";\n",
        "\thistogram INCOMETOTAL / fillattrs=(color=CX3b4556);\n",
        "\tdensity INCOMETOTAL;\n",
        "\tyaxis grid;\n",
        "run;\n",
        "\n",
        "ods graphics / reset;\n",
        "title;\n",
        "\n",
        "proc datasets library=WORK noprint;\n",
        "\tdelete _HistogramTaskData;\n",
        "\trun;\n",
        "\n",
        "*Box Plot;\n",
        "*Figure 6. Frequency of customer’s annual income by ways of living ordered by gender.;\n",
        "ods graphics / reset width=6.4in height=4.8in imagemap;\n",
        "\n",
        "proc sgplot data=ASINCW20.ASINDT20;\n",
        "\tvbox INCOMETOTAL / category=HOUSINGTYPE group=GENDER;\n",
        "\tyaxis grid;\n",
        "run;\n",
        "\n",
        "ods graphics / reset;\n",
        "\n",
        "*Bubble Plot;\n",
        "*Figure 7. Frequency of customer’s family size by credit loan status controlling for income category and number of children.;\n",
        "ods graphics / reset width=6.4in height=4.8in imagemap;\n",
        "\n",
        "proc sgplot data=ASINCW20.ASINDT20;\n",
        "\tbubble x=CREDITSTATUS y=FAMSIZE size=CHILDRENCOUNT/ group=INCOMETYPE \n",
        "\t\tbradiusmin=7 bradiusmax=14;\n",
        "\txaxis grid;\n",
        "\tyaxis grid;\n",
        "run;\n",
        "\n",
        "ods graphics / reset;\n",
        "\n",
        "*--------------------------------------------------------------------------------------------;\n",
        "/** 3. Analysis of Variance (ANOVA) **/\n",
        "*This section look into 2 different ANOVA;\n",
        "\n",
        "*First Linear Models Task: One-way ANOVA;\n",
        "/*\n",
        "\tHOUSINGTYPE = Categorical variable\n",
        "\tINCOMETOTAL = Dependent variable\n",
        "*/\n",
        "TITLE 'First One-Way ANOVA';\n",
        "ods graphics on;\n",
        "proc glm data = &library..&filename plots (maxpoints = none) plots = (residuals diagnostics);\n",
        "\tclass HOUSINGTYPE; \n",
        "\tmodel INCOMETOTAL = HOUSINGTYPE; \n",
        "\tlsmeans HOUSINGTYPE / adjust=tukey pdiff alpha=.05;\n",
        "\tmeans HOUSINGTYPE / hovtest=levene;\n",
        "run;\n",
        "ods graphics off;\n",
        "title;\n",
        "\n",
        "*First ANOVA with Blocking;\n",
        "*First ANOVA with Data from a Randomized Block Design;\n",
        "/*\n",
        "\tHOUSINGTYPE = Categorical variable\n",
        "\tINCOMETOTAL = Dependent variable\n",
        "\tCREDITSTATUS = Blocking variable\n",
        "*/\n",
        "TITLE 'First One-Way ANOVA with Blocking';\n",
        "ods graphics on;\n",
        "proc glm data = &library..&filename plots (maxpoints = none) plots = (residuals diagnostics);\n",
        "\tclass CREDITSTATUS HOUSINGTYPE;\n",
        "\tmodel INCOMETOTAL = CREDITSTATUS HOUSINGTYPE;\n",
        "run;\n",
        "ods graphics off;\n",
        "title;\n",
        "\n",
        "*First ANOVA Post Hoc Pairwise Comparisons;\n",
        "/*\n",
        "\tHOUSINGTYPE = Categorical variable\n",
        "\tINCOMETOTAL = Dependent variable\n",
        "\tCREDITSTATUS = Blocking variable\n",
        "*/\n",
        "TITLE 'First One-Way ANOVA with Blocking and Post-Hoc Pairwise Comparisons';\n",
        "ods graphics on;\n",
        "proc glm data = &library..&filename plots (maxpoints = none) plots = (residuals diagnostics);\n",
        "\tclass CREDITSTATUS HOUSINGTYPE;\n",
        "\tmodel INCOMETOTAL = CREDITSTATUS HOUSINGTYPE;\n",
        "\tlsmeans HOUSINGTYPE / adjust=tukey pdiff alpha=.05;\n",
        "\tlsmeans HOUSINGTYPE / pdiff = control ('Rented apartment'); *Dunnett;\n",
        "\tlsmeans HOUSINGTYPE / adjust = t;\n",
        "run;\n",
        "ods graphics off;\n",
        "title;\n",
        "\n",
        "*Second Linear Models Task: One-way ANOVA;\n",
        "/*\n",
        "\tEDUCATIONLEVEL = Categorical variable\n",
        "\tINCOMETOTAL = Dependent variable\n",
        "*/\n",
        "TITLE 'Second One-Way ANOVA';\n",
        "ods graphics on;\n",
        "proc glm data = &library..&filename plots (maxpoints = none) plots = (residuals diagnostics);\n",
        "\tclass EDUCATIONLEVEL;\n",
        "\tmodel INCOMETOTAL = EDUCATIONLEVEL;\n",
        "\tlsmeans EDUCATIONLEVEL / adjust=tukey pdiff alpha=.05;\n",
        "\tmeans EDUCATIONLEVEL / hovtest=levene;\n",
        "run;\n",
        "ods graphics off;\n",
        "title;\n",
        "\n",
        "*Second ANOVA with Blocking;\n",
        "*Second ANOVA with Data from a Randomized Block Design;\n",
        "/*\n",
        "\tEDUCATIONLEVEL = Categorical variable\n",
        "\tINCOMETOTAL = Dependent variable\n",
        "\tHOUSINGTYPE = Blocking variable\n",
        "*/\n",
        "TITLE 'Second One-Way ANOVA with Blocking';\n",
        "ods graphics on;\n",
        "proc glm data = &library..&filename plots (maxpoints = none) plots = (residuals diagnostics);\n",
        "\tclass HOUSINGTYPE EDUCATIONLEVEL;\n",
        "\tmodel INCOMETOTAL = HOUSINGTYPE EDUCATIONLEVEL;\n",
        "run;\n",
        "ods graphics off;\n",
        "title;\n",
        "\n",
        "*Second ANOVA Post Hoc Pairwise Comparisons;\n",
        "/*\n",
        "\tEDUCATIONLEVEL = Categorical variable\n",
        "\tINCOMETOTAL = Dependent variable\n",
        "\tHOUSINGTYPE = Blocking variable\n",
        "*/\n",
        "TITLE 'Second One-Way ANOVA with Blocking and Post-Hoc Pairwise Comparisons';\n",
        "ods graphics on;\n",
        "proc glm data = &library..&filename plots (maxpoints = none) plots = (residuals diagnostics);\n",
        "\tclass HOUSINGTYPE EDUCATIONLEVEL;\n",
        "\tmodel INCOMETOTAL = HOUSINGTYPE EDUCATIONLEVEL;\n",
        "\tlsmeans EDUCATIONLEVEL / adjust=tukey pdiff alpha=.05;\n",
        "\tlsmeans EDUCATIONLEVEL / pdiff = control ('Lower secondary'); *Dunnett;\n",
        "\tlsmeans EDUCATIONLEVEL / adjust = t;\n",
        "run;\n",
        "ods graphics off;\n",
        "title;\n",
        "\n",
        "*--------------------------------------------------------------------------------------------;\n",
        "/** 4. Nonparametric One-Way ANOVA **/\n",
        "\n",
        "*First Nonparametric One-way ANOVA;\n",
        "/*\n",
        "\tHOUSINGTYPE = Categorical variable\n",
        "\tINCOMETOTAL = Dependent variable\n",
        "*/\n",
        "*First Distribution Examination;\n",
        "title 'First Nonparametric One-way ANOVA Distribution Examination';\n",
        "ods graphics on;\n",
        "proc univariate data=&library..&filename normal;\n",
        "\tclass HOUSINGTYPE;\n",
        "\tvar INCOMETOTAL;\n",
        "\thistogram INCOMETOTAL;\n",
        "\tqqplot INCOMETOTAL;\n",
        "\tinset mean std skewness kurtosis normaltest probn;\n",
        "run;\n",
        "title;\n",
        "\n",
        "*First Kruskal-Wallis Test;\n",
        "title 'First Nonparametric One-way ANOVA Kruskal-Wallis Test';\n",
        "ods noproctitle;\n",
        "proc npar1way data=&library..&filename wilcoxon median plots(only)=(wilcoxonboxplot medianplot);\n",
        "\tclass HOUSINGTYPE;\n",
        "\tvar INCOMETOTAL;\n",
        "run;\n",
        "*Second Nonparametric One-way ANOVA;\n",
        "/*\n",
        "\tEDUCATIONLEVEL = Categorical variable\n",
        "\tINCOMETOTAL = Dependent variable\n",
        "*/\n",
        "*Second Distribution Examination;\n",
        "title 'Second Nonparametric One-way ANOVA Distribution Examination';\n",
        "ods graphics on;\n",
        "proc univariate data=&library..&filename normal;\n",
        "\tclass EDUCATIONLEVEL;\n",
        "\tvar INCOMETOTAL;\n",
        "\thistogram INCOMETOTAL;\n",
        "\tqqplot INCOMETOTAL;\n",
        "\tinset mean std skewness kurtosis normaltest probn;\n",
        "run;\n",
        "*Second Kruskal-Wallis Test;\n",
        "title 'Second Nonparametric One-way ANOVA Kruskal-Wallis Test';\n",
        "ods noproctitle;\n",
        "proc npar1way data=&library..&filename wilcoxon median plots(only)=(wilcoxonboxplot medianplot);\n",
        "\tclass EDUCATIONLEVEL;\n",
        "\tvar INCOMETOTAL;\n",
        "run;\n",
        "\n",
        "to PySpark'''\n",
        "\n",
        "completions = openai.Completion.create(engine=\"text-davinci-002\", prompt=prompt, max_tokens=1024, n=1,stop=None,temperature=0.7)\n",
        "message = completions.choices[0].text\n",
        "print(message)"
      ],
      "metadata": {
        "colab": {
          "base_uri": "https://localhost:8080/"
        },
        "id": "fcntsWQoc9sX",
        "outputId": "b1d8e4d2-9f94-4e54-c56d-5fb7f08adef3"
      },
      "execution_count": 60,
      "outputs": [
        {
          "output_type": "stream",
          "name": "stdout",
          "text": [
            ":\n",
            "\n",
            "import pyspark.sql.functions as F\n",
            "\n",
            "# read in the data\n",
            "df = spark.read.csv('assignment-individual-data.csv',header = True)\n",
            "\n",
            "# drop any missing values\n",
            "df = df.dropna()\n",
            "\n",
            "# calculate summary statistics\n",
            "df.select(['GENDER','INCOMETOTAL']).groupBy('GENDER').agg(F.mean('INCOMETOTAL').alias('Mean Income'), F.stddev('INCOMETOTAL').alias('Std. Dev. Income'), F.min('INCOMETOTAL').alias('Min. Income'), F.max('INCOMETOTAL').alias('Max. Income')).show()\n",
            "\n",
            "# create a bar chart\n",
            "df.groupBy('GENDER').pivot('EDUCATIONLEVEL').count().orderBy('GENDER').show()\n",
            "\n",
            "# create a pie chart\n",
            "df.groupBy('GENDER').pivot('OWNPROPERTY').count().orderBy('GENDER').show()\n",
            "\n",
            "# create a bar chart\n",
            "df.groupBy('GENDER').pivot('MARITALSTATUS').count().orderBy('GENDER').show()\n",
            "\n",
            "# create a histogram\n",
            "df.select(['GENDER','INCOMETOTAL']).groupBy('GENDER').agg(F.mean('INCOMETOTAL').alias('Mean Income'), F.stddev('INCOMETOTAL').alias('Std. Dev. Income'), F.min('INCOMETOTAL').alias('Min. Income'), F.max('INCOMETOTAL').alias('Max. Income')).show()\n",
            "\n",
            "# create a box plot\n",
            "df.groupBy('GENDER').pivot('HOUSINGTYPE').count().orderBy('GENDER').show()\n",
            "\n",
            "# create a bubble plot\n",
            "df.groupBy('GENDER').pivot('FAMSIZE','CREDITSTATUS').count().orderBy('GENDER').show()\n",
            "\n",
            "# create a one-way ANOVA\n",
            "df.groupBy('HOUSINGTYPE').agg(F.mean('INCOMETOTAL').alias('Mean Income'), F.stddev('INCOMETOTAL').alias('Std. Dev. Income'), F.min('INCOMETOTAL').alias('Min. Income'), F.max('INCOMETOTAL').alias('Max. Income')).show()\n",
            "\n",
            "# create a one-way ANOVA with blocking\n",
            "df.groupBy('CREDITSTATUS','HOUSINGTYPE').agg(F.mean('INCOMETOTAL').alias('Mean Income'), F.stddev('INCOMETOTAL').alias('Std. Dev. Income'), F.min('INCOMETOTAL').alias('Min. Income'), F.max('INCOMETOTAL').alias('Max. Income')).show()\n",
            "\n",
            "# create a one-way ANOVA with post-hoc pairwise comparisons\n",
            "df.groupBy('HOUSINGTYPE').agg(F.mean('INCOMETOTAL').alias('Mean Income'), F.stddev('INCOMETOTAL').alias('Std. Dev. Income'), F.min('INCOMETOTAL').alias('Min. Income'), F.max('INCOMETOTAL').alias('Max. Income')).show()\n",
            "\n",
            "# create a one-way ANOVA\n",
            "df.groupBy('EDUCATIONLEVEL').agg(F.mean('INCOMETOTAL').alias('Mean Income'), F.stddev('INCOMETOTAL').alias('Std. Dev. Income'), F.min('INCOMETOTAL').alias('Min. Income'), F.max('INCOMETOTAL').alias('Max. Income')).show()\n",
            "\n",
            "# create a one-way ANOVA with blocking\n",
            "df.groupBy('HOUSINGTYPE','EDUCATIONLEVEL').agg(F.mean('INCOMETOTAL').alias('Mean Income'), F.stddev('INCOMETOTAL').alias('Std. Dev. Income'), F.min('INCOMETOTAL').alias('Min. Income'), F.max('INCOMETOTAL').alias('Max. Income')).show()\n",
            "\n",
            "# create a one-way ANOVA with post-hoc pairwise comparisons\n",
            "df.groupBy('EDUCATIONLEVEL').agg(F.mean('INCOMETOTAL').alias('Mean Income'), F.stddev('INCOMETOTAL').alias('Std. Dev. Income'), F.min('INCOMETOTAL').alias('Min. Income'), F.max('INCOMETOTAL').alias('Max. Income')).show()\n"
          ]
        }
      ]
    },
    {
      "cell_type": "markdown",
      "source": [
        "##**Additional Notes:**\n",
        "\n",
        "### **1.** **Data Validation** - OpenAI can also help generate what the output of the SAS code should look like, which can help with validation once the code conversion is done.\n",
        "\n",
        "### **2.** **Modularizing the code** - It can also help modularize the code into sub-modules which can help with code-reusability etc. "
      ],
      "metadata": {
        "id": "hGP4K4AOhcWQ"
      }
    },
    {
      "cell_type": "markdown",
      "source": [
        "#**Data Validation**"
      ],
      "metadata": {
        "id": "Ip-XgVpJe19N"
      }
    },
    {
      "cell_type": "code",
      "source": [
        "#Asking OPENAI to give hints to developers on how the code can be broken down into multiple sub-parts\n",
        "\n",
        "openai.api_key = API_KEY\n",
        "prompt = '''What should the sample output table for 'BankCustomerDataAnalysis.sas' code look like'''\n",
        "\n",
        "completions = openai.Completion.create(engine=\"text-davinci-002\", prompt=prompt, max_tokens=1024, n=1,stop=None,temperature=0.7)\n",
        "message = completions.choices[0].text\n",
        "print(message)"
      ],
      "metadata": {
        "colab": {
          "base_uri": "https://localhost:8080/"
        },
        "id": "Pdxg9zFaeRvz",
        "outputId": "08714be2-d437-4fe1-c6fd-97451cd83960"
      },
      "execution_count": 27,
      "outputs": [
        {
          "output_type": "stream",
          "name": "stdout",
          "text": [
            "?\n",
            "\n",
            "CustomerID  Age Gender MaritalStatus Income\n",
            "1           21  M       S            25\n",
            "2           34  F       S            60\n",
            "3           45  M       M            80\n",
            "4           56  F       D            90\n",
            "5           67  M       D           100\n"
          ]
        }
      ]
    },
    {
      "cell_type": "markdown",
      "source": [
        "#**Modularizing the code:**\n",
        "\n",
        "Modular programming will makes your code easier to read because it separates it into functions that each only deal with one aspect of the overall functionality. "
      ],
      "metadata": {
        "id": "NV8nY2NxfIKD"
      }
    },
    {
      "cell_type": "code",
      "source": [
        "#Asking OPENAI to give hints to developers on how the code can be broken down into multiple sub-parts\n",
        "\n",
        "openai.api_key = API_KEY\n",
        "prompt = '''Generate sub-modules out of the 'BankCustomerDataAnalysis.sas' code which will be useful for developers'''\n",
        "\n",
        "completions = openai.Completion.create(engine=\"text-davinci-002\", prompt=prompt, max_tokens=1024, n=1,stop=None,temperature=0.7)\n",
        "message = completions.choices[0].text\n",
        "print(message)"
      ],
      "metadata": {
        "colab": {
          "base_uri": "https://localhost:8080/"
        },
        "id": "OfONq8tleb5T",
        "outputId": "ff7c9699-a2c1-4110-d0af-107bf04ada6b"
      },
      "execution_count": 34,
      "outputs": [
        {
          "output_type": "stream",
          "name": "stdout",
          "text": [
            " while they are working on specific parts of the project\n",
            "\n",
            "1. 'DataCleaning.sas' - This module will focus on cleaning the customer data set.\n",
            "\n",
            "2. 'ExploratoryDataAnalysis.sas' - This module will focus on performing exploratory data analysis on the customer data set.\n",
            "\n",
            "3. 'StatisticalAnalysis.sas' - This module will focus on performing statistical analysis on the customer data set.\n"
          ]
        }
      ]
    },
    {
      "cell_type": "code",
      "source": [],
      "metadata": {
        "id": "sl4ydKtrowGq"
      },
      "execution_count": null,
      "outputs": []
    }
  ]
}